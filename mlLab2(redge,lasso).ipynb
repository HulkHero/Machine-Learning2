{
  "nbformat": 4,
  "nbformat_minor": 0,
  "metadata": {
    "colab": {
      "provenance": []
    },
    "kernelspec": {
      "name": "python3",
      "display_name": "Python 3"
    },
    "language_info": {
      "name": "python"
    }
  },
  "cells": [
    {
      "cell_type": "markdown",
      "source": [
        "# Problem #2.1"
      ],
      "metadata": {
        "id": "1cfxT2fmIFUT"
      }
    },
    {
      "cell_type": "markdown",
      "source": [
        "### Example 2.1"
      ],
      "metadata": {
        "id": "e8f56AwWMlbY"
      }
    },
    {
      "cell_type": "code",
      "execution_count": 1,
      "metadata": {
        "colab": {
          "base_uri": "https://localhost:8080/"
        },
        "id": "Kto9Kr5pGyQz",
        "outputId": "71afc6c9-bc0a-4898-8ea6-4b3c22dff6fc"
      },
      "outputs": [
        {
          "output_type": "stream",
          "name": "stdout",
          "text": [
            "Mounted at /content/drive\n"
          ]
        }
      ],
      "source": [
        "from google.colab import drive\n",
        "drive.mount('/content/drive')"
      ]
    },
    {
      "cell_type": "code",
      "source": [
        "import pandas as pd\n",
        "import numpy as np\n",
        "\n",
        "raw_data = pd.read_csv('/content/drive/My Drive/Colab Notebooks/boston.csv',header=None)\n",
        "\n",
        "data_rows = np.reshape(raw_data.to_numpy(), (506,14))\n",
        "data = data_rows[:,:13]\n",
        "target = data_rows[:,13]\n",
        "\n",
        "# normalize input features to zero-mean and unit-variance\n",
        "data = (data-np.mean(data, axis=0))/np.std(data, axis=0) \n",
        "print(raw_data)\n",
        "\n",
        "print(data.shape)\n",
        "print(target.shape)\n"
      ],
      "metadata": {
        "colab": {
          "base_uri": "https://localhost:8080/"
        },
        "id": "6tPx4HqwH9cI",
        "outputId": "5a40a7ff-3ae6-4d6e-f692-38b46ef4b355"
      },
      "execution_count": 4,
      "outputs": [
        {
          "output_type": "stream",
          "name": "stdout",
          "text": [
            "      0     1     2     3      4      5     6     7     8      9     ...  \\\n",
            "0  0.00632  18.0  2.31     0  0.538  6.575  65.2  4.09     1  296.0  ...   \n",
            "\n",
            "    7074  7075  7076   7077  7078   7079  7080   7081  7082  7083  \n",
            "0  0.573  6.03  80.8  2.505     1  273.0  21.0  396.9  7.88  11.9  \n",
            "\n",
            "[1 rows x 7084 columns]\n",
            "(506, 13)\n",
            "(506,)\n"
          ]
        }
      ]
    },
    {
      "cell_type": "markdown",
      "source": [
        "## Closed form linear regression"
      ],
      "metadata": {
        "id": "Ah7gK8cbLGBF"
      }
    },
    {
      "cell_type": "code",
      "source": [
        "# add a constant column of '1' to accomodate the bias \n",
        "data_wb = np.hstack((data, np.ones((data.shape[0], 1), dtype=data.dtype)))\n",
        "# refer to the closed-form solution\n",
        "w = np.linalg.inv(data_wb.T @ data_wb) @ data_wb.T @ target\n",
        "print(w)\n",
        "# calculate the mean square error in the training set\n",
        "predict = data_wb @ w \n",
        "error = np.sum((predict - target)*(predict - target))/data.shape[0]\n",
        "\n",
        "print(f'mean square error for the closed-form solution: {error:.3f}')"
      ],
      "metadata": {
        "colab": {
          "base_uri": "https://localhost:8080/"
        },
        "id": "AfhVOD1xLEPX",
        "outputId": "57ef0664-888b-4203-ff37-a248d7ff251b"
      },
      "execution_count": 5,
      "outputs": [
        {
          "output_type": "stream",
          "name": "stdout",
          "text": [
            "[-9.28146064e-01  1.08156863e+00  1.40899997e-01  6.81739725e-01\n",
            " -2.05671827e+00  2.67423017e+00  1.94660717e-02 -3.10404426e+00\n",
            "  2.66221764e+00 -2.07678168e+00 -2.06060666e+00  8.49268418e-01\n",
            " -3.74362713e+00  2.25328063e+01]\n",
            "mean square error for the closed-form solution: 21.895\n"
          ]
        }
      ]
    },
    {
      "cell_type": "markdown",
      "source": [
        "## Closed form Ridge Regression"
      ],
      "metadata": {
        "id": "UtYKJ-nNLVkp"
      }
    },
    {
      "cell_type": "code",
      "source": [
        "def closed_form_ridge(X,y,lamda): \n",
        "    '''Closed form solution for ridge regression'''\n",
        "    m,n = X.shape\n",
        "    print(m,n)\n",
        "    I = np.eye((n))\n",
        "    inr=np.linalg.inv(X.T @ X + lamda * I)@ X.T @ y\n",
        "    return inr\n",
        "    # return (inr @ X.T @ y)[:,0]\n",
        "data_wb = np.hstack((data, np.ones((data.shape[0], 1), dtype=data.dtype)))\n",
        "lamda=2\n",
        "sol=closed_form_ridge(data_wb,target,lamda)   \n",
        "\n",
        "predict = data_wb @ sol \n",
        "error = (np.sum((predict - target)*(predict - target)))/data.shape[0] \n",
        "\n",
        "print(f'mean square error for the closed-form solution: {error:.3f}')\n",
        "error=error + lamda*sol\n",
        "error"
      ],
      "metadata": {
        "colab": {
          "base_uri": "https://localhost:8080/"
        },
        "id": "6l6iSNjzLU1w",
        "outputId": "6730b0b8-5a2e-42ac-d84a-cac92c44d1d5"
      },
      "execution_count": 10,
      "outputs": [
        {
          "output_type": "stream",
          "name": "stdout",
          "text": [
            "506 14\n",
            "mean square error for the closed-form solution: 21.907\n"
          ]
        },
        {
          "output_type": "execute_result",
          "data": {
            "text/plain": [
              "array([20.0827271 , 24.01065209, 22.09730276, 23.28324594, 17.90237992,\n",
              "       27.28830843, 21.92094842, 15.80444982, 26.95614471, 18.00966399,\n",
              "       17.8178348 , 23.60349107, 14.47072751, 66.79483563])"
            ]
          },
          "metadata": {},
          "execution_count": 10
        }
      ]
    },
    {
      "cell_type": "markdown",
      "source": [
        "## Linear regression Gradient Descent"
      ],
      "metadata": {
        "id": "4_UpqsrILqgq"
      }
    },
    {
      "cell_type": "code",
      "source": [
        "# solve linear regression using gradient descent \n",
        "import numpy as np\n",
        "\n",
        "class Optimizer():\n",
        "  def __init__(self, lr, annealing_rate, batch_size, max_epochs):\n",
        "    self.lr = lr\n",
        "    self.annealing_rate = annealing_rate\n",
        "    self.batch_size = batch_size\n",
        "    self.max_epochs = max_epochs\n",
        "\n",
        "# X[N,d]: input features; y[N]: output targets; op: hyper-parameters for optimzer \n",
        "def linear_regression_gd(X, y, op):\n",
        "  n = X.shape[0]   # number of samples\n",
        "  w = np.zeros(X.shape[1])  # initialization\n",
        "\n",
        "  lr = op.lr\n",
        "  errors = np.zeros(op.max_epochs)\n",
        "  for epoch in range(op.max_epochs):\n",
        "    indices = np.random.permutation(n)  #randomly shuffle data indices\n",
        "    for batch_start in range(0, n, op.batch_size):\n",
        "      X_batch = X[indices[batch_start:batch_start + op.batch_size]]\n",
        "      y_batch = y[indices[batch_start:batch_start + op.batch_size]]\n",
        "\n",
        "      # vectorization to compute gradients for a whole mini-batch (see the above formula)\n",
        "      w_grad = X_batch.T @ X_batch @ w - X_batch.T @ y_batch \n",
        "\n",
        "      w -= lr * w_grad / X_batch.shape[0]\n",
        "\n",
        "    diff = X @ w - y  # prediction difference\n",
        "    errors[epoch] = np.sum(diff*diff)/n\n",
        "    lr *= op.annealing_rate\n",
        "    #print(f'epoch={epoch}: the mean square error is {errors[epoch]}')\n",
        "\n",
        "  return w, errors"
      ],
      "metadata": {
        "id": "WZ2T-RJAH-zm"
      },
      "execution_count": 11,
      "outputs": []
    },
    {
      "cell_type": "code",
      "source": [
        "import matplotlib.pyplot as plt\n",
        "\n",
        "op = Optimizer(lr=0.001, annealing_rate=0.99, batch_size=5, max_epochs=100)\n",
        "\n",
        "w, errors = linear_regression_gd(data_wb, target, op)\n",
        "\n",
        "plt.title('use a small mini-batch; converging quicklly and nicely to the optimum')\n",
        "plt.xlabel('number of epoches')\n",
        "plt.plot(errors, 'b', 21.89*np.ones(errors.shape[0]), 'c--')\n",
        "plt.legend(['gradient descent', 'closed-form solution'])"
      ],
      "metadata": {
        "colab": {
          "base_uri": "https://localhost:8080/",
          "height": 312
        },
        "id": "hyoZDgDVL0MZ",
        "outputId": "cb357065-3ec5-4d5b-efa3-0d9ce4e023e0"
      },
      "execution_count": 14,
      "outputs": [
        {
          "output_type": "execute_result",
          "data": {
            "text/plain": [
              "<matplotlib.legend.Legend at 0x7f4a2f8c5850>"
            ]
          },
          "metadata": {},
          "execution_count": 14
        },
        {
          "output_type": "display_data",
          "data": {
            "text/plain": [
              "<Figure size 432x288 with 1 Axes>"
            ],
            "image/png": "[encoded data removed]"
          },
          "metadata": {
            "needs_background": "light"
          }
        }
      ]
    },
    {
      "cell_type": "markdown",
      "source": [
        "## Ridge Regression Gradient Descent"
      ],
      "metadata": {
        "id": "gVuWROWKMH84"
      }
    },
    {
      "cell_type": "code",
      "source": [
        "import numpy as np\n",
        "\n",
        "class Optimizer():\n",
        "  def __init__(self, lr, annealing_rate, batch_size, max_epochs,lambdaa):\n",
        "    self.lr = lr\n",
        "    self.annealing_rate = annealing_rate\n",
        "    self.batch_size = batch_size\n",
        "    self.max_epochs = max_epochs\n",
        "    self.lambdaa=lambdaa\n",
        "\n",
        "def Ridge_gd(X, y, op):\n",
        "  n = X.shape[0]   # number of samples\n",
        "  w = np.zeros(X.shape[1])  # initialization\n",
        "  \n",
        "  lr = op.lr\n",
        "  lamda=op.lambdaa\n",
        "  lam=np.ones(14)*10\n",
        "  print(lam)\n",
        "  errors = np.zeros(op.max_epochs)\n",
        "  for epoch in range(op.max_epochs):\n",
        "    indices = np.random.permutation(n)  #randomly shuffle data indices\n",
        "    for batch_start in range(0, n, op.batch_size):\n",
        "      X_batch = X[indices[batch_start:batch_start + op.batch_size]]\n",
        "      y_batch = y[indices[batch_start:batch_start + op.batch_size]]\n",
        "    \n",
        "      # vectorization to compute gradients for a whole mini-batch (see the above formula)\n",
        "      w_grad = X_batch.T @  X_batch @ w -  X_batch.T  @  y_batch - w*lamda\n",
        "     \n",
        "\n",
        "      w -= lr * w_grad / X_batch.shape[0]\n",
        "\n",
        "    diff = X @ w - y  # prediction difference\n",
        "    errors[epoch] = np.sum(diff*diff)/n\n",
        "    lr *= op.annealing_rate\n",
        "  return w, errors"
      ],
      "metadata": {
        "id": "-QhC-utQL3GD"
      },
      "execution_count": 17,
      "outputs": []
    },
    {
      "cell_type": "markdown",
      "source": [
        "lamda=0.5"
      ],
      "metadata": {
        "id": "e0Bwd7G_TmQ8"
      }
    },
    {
      "cell_type": "code",
      "source": [
        "import matplotlib.pyplot as plt\n",
        "\n",
        "op = Optimizer(lr=0.001, annealing_rate=0.99, batch_size=20, max_epochs=500,lambdaa=0.5)\n",
        "\n",
        "w, errors = Ridge_gd(data_wb, target, op)\n",
        "# w,errors =gradient_descent_reg(data_wb,target,np.zeros([506,14]),0.0005,10,1000)\n",
        "plt.title('A larger mini-batch; converging smoothly but still a gap')\n",
        "plt.xlabel('number of epoches')\n",
        "plt.plot(errors, 'b', 21.89*np.ones(errors.shape[0]), 'c--')\n",
        "plt.legend(['gradient descent', 'closed-form solution'])"
      ],
      "metadata": {
        "colab": {
          "base_uri": "https://localhost:8080/",
          "height": 330
        },
        "id": "qlpasWoGMV9b",
        "outputId": "5e24ce61-fbc6-4dec-925b-5d2674775438"
      },
      "execution_count": 25,
      "outputs": [
        {
          "output_type": "stream",
          "name": "stdout",
          "text": [
            "[10. 10. 10. 10. 10. 10. 10. 10. 10. 10. 10. 10. 10. 10.]\n"
          ]
        },
        {
          "output_type": "execute_result",
          "data": {
            "text/plain": [
              "<matplotlib.legend.Legend at 0x7f4a2c6b7210>"
            ]
          },
          "metadata": {},
          "execution_count": 25
        },
        {
          "output_type": "display_data",
          "data": {
            "text/plain": [
              "<Figure size 432x288 with 1 Axes>"
            ],
            "image/png": "[encoded data removed]"
          },
          "metadata": {
            "needs_background": "light"
          }
        }
      ]
    },
    {
      "cell_type": "markdown",
      "source": [
        "lamda=5"
      ],
      "metadata": {
        "id": "EBfwX7NaToa7"
      }
    },
    {
      "cell_type": "code",
      "source": [
        "import matplotlib.pyplot as plt\n",
        "\n",
        "op = Optimizer(lr=0.001, annealing_rate=0.99, batch_size=20, max_epochs=500,lambdaa=5)\n",
        "\n",
        "w, errors = Ridge_gd(data_wb, target, op)\n",
        "# w,errors =gradient_descent_reg(data_wb,target,np.zeros([506,14]),0.0005,10,1000)\n",
        "plt.title('A larger mini-batch; converging smoothly but still a gap')\n",
        "plt.xlabel('number of epoches')\n",
        "plt.plot(errors, 'b', 21.89*np.ones(errors.shape[0]), 'c--')\n",
        "plt.legend(['gradient descent', 'closed-form solution'])"
      ],
      "metadata": {
        "colab": {
          "base_uri": "https://localhost:8080/",
          "height": 330
        },
        "id": "UHMMLk98Trri",
        "outputId": "8e29721e-ff6b-49a1-b359-252a3b8635d9"
      },
      "execution_count": 24,
      "outputs": [
        {
          "output_type": "stream",
          "name": "stdout",
          "text": [
            "[10. 10. 10. 10. 10. 10. 10. 10. 10. 10. 10. 10. 10. 10.]\n"
          ]
        },
        {
          "output_type": "execute_result",
          "data": {
            "text/plain": [
              "<matplotlib.legend.Legend at 0x7f4a2c72d5d0>"
            ]
          },
          "metadata": {},
          "execution_count": 24
        },
        {
          "output_type": "display_data",
          "data": {
            "text/plain": [
              "<Figure size 432x288 with 1 Axes>"
            ],
            "image/png": "[encoded data removed]"
          },
          "metadata": {
            "needs_background": "light"
          }
        }
      ]
    },
    {
      "cell_type": "markdown",
      "source": [
        "# Example 2.2"
      ],
      "metadata": {
        "id": "pSJjhkE1Mtqx"
      }
    },
    {
      "cell_type": "markdown",
      "source": [
        "Processing Data"
      ],
      "metadata": {
        "id": "npTNA3aCMzE1"
      }
    },
    {
      "cell_type": "code",
      "source": [
        "!pip install python_mnist"
      ],
      "metadata": {
        "colab": {
          "base_uri": "https://localhost:8080/"
        },
        "id": "pwwSMVixMyn7",
        "outputId": "7c2e7a0d-d629-4abe-f8c0-1a2ec52fc4c5"
      },
      "execution_count": 26,
      "outputs": [
        {
          "output_type": "stream",
          "name": "stdout",
          "text": [
            "Looking in indexes: https://pypi.org/simple, https://us-python.pkg.dev/colab-wheels/public/simple/\n",
            "Collecting python_mnist\n",
            "  Downloading python_mnist-0.7-py2.py3-none-any.whl (9.6 kB)\n",
            "Installing collected packages: python-mnist\n",
            "Successfully installed python-mnist-0.7\n"
          ]
        }
      ]
    },
    {
      "cell_type": "code",
      "source": [
        "from mnist import MNIST\n",
        "import numpy as np\n",
        "\n",
        "mnist_loader = MNIST('/content/drive/My Drive/Colab Notebooks/MNIST')\n",
        "train_data, train_label = mnist_loader.load_training()\n",
        "test_data, test_label = mnist_loader.load_testing()\n",
        "train_data = np.array(train_data, dtype='float')/255 # norm to [0,1]\n",
        "train_label = np.array(train_label, dtype='short')\n",
        "test_data = np.array(test_data, dtype='float')/255 # norm to [0,1]\n",
        "test_label = np.array(test_label, dtype='short')\n",
        "\n",
        "#add small random noise to avoid matrix singularity\n",
        "train_data += np.random.normal(0,0.0001,train_data.shape) \n",
        "\n",
        "print(train_data.shape, train_label.shape, test_data.shape, test_label.shape)"
      ],
      "metadata": {
        "colab": {
          "base_uri": "https://localhost:8080/"
        },
        "id": "56zn-PA5NGQn",
        "outputId": "56454ab3-2585-4f02-fdbb-a5973747db24"
      },
      "execution_count": 27,
      "outputs": [
        {
          "output_type": "stream",
          "name": "stdout",
          "text": [
            "(60000, 784) (60000,) (10000, 784) (10000,)\n"
          ]
        }
      ]
    },
    {
      "cell_type": "code",
      "source": [
        "# prepare digits '3' and '8' for linear regression\n",
        "\n",
        "digit_train_index = np.logical_or(train_label == 3, train_label == 8)\n",
        "X_train = train_data[digit_train_index]\n",
        "y_train = train_label[digit_train_index]\n",
        "digit_test_index = np.logical_or(test_label == 3, test_label == 8)\n",
        "X_test = test_data[digit_test_index]\n",
        "y_test = test_label[digit_test_index]\n",
        "\n",
        "# add a constant column of '1' to accomodate the bias (see the margin note on page 107)\n",
        "X_train = np.hstack((X_train, np.ones((X_train.shape[0], 1), dtype=X_train.dtype)))\n",
        "X_test = np.hstack((X_test, np.ones((X_test.shape[0], 1), dtype=X_test.dtype)))\n",
        "\n",
        "# convert labels: '3' => -1, '8' => +1\n",
        "CUTOFF = 5 # any number between '3' and '8'\n",
        "y_train = np.sign(y_train-CUTOFF)\n",
        "y_test = np.sign(y_test-CUTOFF)\n",
        "\n",
        "print(X_train.shape)\n",
        "print(y_train)\n",
        "\n",
        "print(X_test.shape)\n",
        "print(y_test)"
      ],
      "metadata": {
        "colab": {
          "base_uri": "https://localhost:8080/"
        },
        "id": "NhHDTvORNKPj",
        "outputId": "882c3d87-6423-4b83-ce54-1c7e827c80df"
      },
      "execution_count": 28,
      "outputs": [
        {
          "output_type": "stream",
          "name": "stdout",
          "text": [
            "(11982, 785)\n",
            "[-1 -1 -1 ...  1 -1  1]\n",
            "(1984, 785)\n",
            "[-1 -1 -1 ... -1  1 -1]\n"
          ]
        }
      ]
    },
    {
      "cell_type": "markdown",
      "source": [
        "## Linear regression Closed Form"
      ],
      "metadata": {
        "id": "1gS2fNHCNUsQ"
      }
    },
    {
      "cell_type": "code",
      "source": [
        "# use the closed-form solution\n",
        "\n",
        "# refer to the closed-form solution, i.e. Eq.(6.9) on page 112\n",
        "w = np.linalg.inv(X_train.T @ X_train) @ X_train.T @ y_train\n",
        "\n",
        "# calculate the mean square error and classification accuracy on the training set\n",
        "predict = X_train @ w \n",
        "error = np.sum((predict - y_train)*(predict - y_train))/X_train.shape[0]\n",
        "print(f'mean square error on training data for the closed-form solution: {error:.5f}')\n",
        "\n",
        "accuracy = np.count_nonzero(np.equal(np.sign(predict),y_train))/y_train.size*100.0\n",
        "print(f'classification accuracy on training data for the closed-form solution: {accuracy:.2f}%')\n",
        "\n",
        "# calculate the mean square error and classification accuracy on the test set\n",
        "predict = X_test @ w \n",
        "error = np.sum((predict - y_test)*(predict - y_test))/X_test.shape[0]\n",
        "print(f'mean square error on test data for the closed-form solution: {error:.5f}')\n",
        "\n",
        "accuracy = np.count_nonzero(np.equal(np.sign(predict),y_test))/y_test.size*100.0\n",
        "print(f'classification accuracy on test data for the closed-form solution: {accuracy:.2f}%')"
      ],
      "metadata": {
        "colab": {
          "base_uri": "https://localhost:8080/"
        },
        "id": "E3P8yRF9NThQ",
        "outputId": "b3ac2de0-aff3-47e6-822c-387e9dda4f6a"
      },
      "execution_count": 29,
      "outputs": [
        {
          "output_type": "stream",
          "name": "stdout",
          "text": [
            "mean square error on training data for the closed-form solution: 0.19520\n",
            "classification accuracy on training data for the closed-form solution: 96.96%\n",
            "mean square error on test data for the closed-form solution: 0.65438\n",
            "classification accuracy on test data for the closed-form solution: 95.72%\n"
          ]
        }
      ]
    },
    {
      "cell_type": "markdown",
      "source": [
        "## Ridge Regression Closed Form"
      ],
      "metadata": {
        "id": "82PjYKc3Nhfu"
      }
    },
    {
      "cell_type": "code",
      "source": [
        "def closed_form_ridge(X,y,lamda): \n",
        "    m,n = X.shape\n",
        "    print(m,n)\n",
        "    I = np.eye((n))\n",
        "    return np.linalg.inv(X.T @ X + lamda * I)@ X.T @ y\n",
        "\n",
        "lamda=2\n",
        "w=closed_form_ridge(X_train,y_train,lamda)\n",
        "predict = X_train @ w \n",
        "error = np.sum((predict - y_train)*(predict - y_train))/X_train.shape[0]\n",
        "print(f'mean square error on training data for the closed-form solution: {error:.5f}')\n",
        "\n",
        "accuracy = np.count_nonzero(np.equal(np.sign(predict),y_train))/y_train.size*100.0\n",
        "print(f'classification accuracy on training data for the closed-form solution: {accuracy:.2f}%')\n",
        "\n",
        "# calculate the mean square error and classification accuracy on the test set\n",
        "predict = X_test @ w \n",
        "error = np.sum((predict - y_test)*(predict - y_test))/X_test.shape[0]\n",
        "print(f'mean square error on test data for the closed-form solution: {error:.5f}')\n",
        "\n",
        "accuracy = np.count_nonzero(np.equal(np.sign(predict),y_test))/y_test.size*100.0\n",
        "print(f'classification accuracy on test data for the closed-form solution: {accuracy:.2f}%')"
      ],
      "metadata": {
        "colab": {
          "base_uri": "https://localhost:8080/"
        },
        "id": "Qs857jQ6NgqE",
        "outputId": "a82d9729-92e2-4b08-c95a-ee40e1544768"
      },
      "execution_count": 33,
      "outputs": [
        {
          "output_type": "stream",
          "name": "stdout",
          "text": [
            "11982 785\n",
            "mean square error on training data for the closed-form solution: 0.20054\n",
            "classification accuracy on training data for the closed-form solution: 96.73%\n",
            "mean square error on test data for the closed-form solution: 0.21908\n",
            "classification accuracy on test data for the closed-form solution: 96.02%\n"
          ]
        }
      ]
    },
    {
      "cell_type": "markdown",
      "source": [
        "better accuracy and less MSE on training data with ridge regression, than closed form linear regression "
      ],
      "metadata": {
        "id": "4Pom2Wz5Ur6T"
      }
    },
    {
      "cell_type": "markdown",
      "source": [
        "## Linear Regression Gradient Descent"
      ],
      "metadata": {
        "id": "6rEvePJROTrM"
      }
    },
    {
      "cell_type": "code",
      "source": [
        " # solve linear regression using gradient descent \n",
        "import numpy as np\n",
        "\n",
        "class Optimizer():\n",
        "  def __init__(self, lr, annealing_rate, batch_size, max_epochs):\n",
        "    self.lr = lr\n",
        "    self.annealing_rate = annealing_rate\n",
        "    self.batch_size = batch_size\n",
        "    self.max_epochs = max_epochs\n",
        "\n",
        "def linear_regression_gd2(X, y, X2, y2, op):\n",
        "  n = X.shape[0]   # number of samples\n",
        "  w = np.zeros(X.shape[1])  # initialization\n",
        "\n",
        "  lr = op.lr\n",
        "  errorsA = np.zeros(op.max_epochs)\n",
        "  errorsB = np.zeros(op.max_epochs)\n",
        "  errorsC = np.zeros(op.max_epochs)\n",
        "\n",
        "  for epoch in range(op.max_epochs):\n",
        "    indices = np.random.permutation(n)  #randomly shuffle data indices\n",
        "    for batch_start in range(0, n, op.batch_size):\n",
        "      X_batch = X[indices[batch_start:batch_start + op.batch_size]]\n",
        "      y_batch = y[indices[batch_start:batch_start + op.batch_size]]\n",
        "\n",
        "      # vectorization to compute gradients for a whole mini-batch (see the above formula)\n",
        "      w_grad = X_batch.T @ X_batch @ w - X_batch.T @ y_batch \n",
        "\n",
        "      w -= lr * w_grad / X_batch.shape[0] \n",
        "\n",
        "    # for learning curve C\n",
        "    diff = X @ w - y  # prediction difference\n",
        "    errorsC[epoch] = np.sum(diff*diff)/n   \n",
        "\n",
        "    # for learning curve A\n",
        "    predict = np.sign(X @ w)\n",
        "    errorsA[epoch] = np.count_nonzero(np.equal(predict,y))/y.size \n",
        "\n",
        "    # for learning curve B\n",
        "    predict2 = np.sign(X2 @ w)\n",
        "    errorsB[epoch] = np.count_nonzero(np.equal(predict2,y2))/y2.size\n",
        "\n",
        "    lr *= op.annealing_rate\n",
        "    print(f'epoch={epoch}: the mean square error is {errorsC[epoch]:.3f} ({errorsA[epoch]:.3f},{errorsB[epoch]:.3f})')\n",
        "\n",
        "  return w, errorsA, errorsB, errorsC"
      ],
      "metadata": {
        "id": "slaFuSYdOP3e"
      },
      "execution_count": 37,
      "outputs": []
    },
    {
      "cell_type": "code",
      "source": [
        "import matplotlib.pyplot as plt\n",
        "\n",
        "op = Optimizer(lr=0.001, annealing_rate=0.99, batch_size=50, max_epochs=20)\n",
        "\n",
        "w, A, B, C = linear_regression_gd2(X_train, y_train, X_test, y_test, op)\n",
        "\n",
        "fig, ax = plt.subplots(2)\n",
        "fig.suptitle('monitoring three learning curves (A, B, C)')\n",
        "ax[0].plot(C, 'b', 0.196*np.ones(C.shape[0]), 'c--')\n",
        "ax[0].legend(['curve C', 'closed-form solution'])\n",
        "\n",
        "ax[1].plot(A, 'b', B, 'r')\n",
        "ax[1].legend(['curve A', 'curve B'])"
      ],
      "metadata": {
        "colab": {
          "base_uri": "https://localhost:8080/",
          "height": 659
        },
        "id": "LAFZhph5OdYw",
        "outputId": "f4ccbd1a-881e-4ccc-8cf0-5cd68266ec65"
      },
      "execution_count": 38,
      "outputs": [
        {
          "output_type": "stream",
          "name": "stdout",
          "text": [
            "epoch=0: the mean square error is 0.399 (0.910,0.919)\n",
            "epoch=1: the mean square error is 0.309 (0.929,0.943)\n",
            "epoch=2: the mean square error is 0.279 (0.939,0.952)\n",
            "epoch=3: the mean square error is 0.263 (0.944,0.957)\n",
            "epoch=4: the mean square error is 0.254 (0.949,0.960)\n",
            "epoch=5: the mean square error is 0.248 (0.951,0.962)\n",
            "epoch=6: the mean square error is 0.243 (0.953,0.962)\n",
            "epoch=7: the mean square error is 0.240 (0.954,0.964)\n",
            "epoch=8: the mean square error is 0.237 (0.955,0.963)\n",
            "epoch=9: the mean square error is 0.235 (0.956,0.964)\n",
            "epoch=10: the mean square error is 0.234 (0.957,0.964)\n",
            "epoch=11: the mean square error is 0.232 (0.957,0.964)\n",
            "epoch=12: the mean square error is 0.231 (0.958,0.964)\n",
            "epoch=13: the mean square error is 0.230 (0.959,0.964)\n",
            "epoch=14: the mean square error is 0.228 (0.958,0.964)\n",
            "epoch=15: the mean square error is 0.228 (0.960,0.964)\n",
            "epoch=16: the mean square error is 0.227 (0.959,0.964)\n",
            "epoch=17: the mean square error is 0.226 (0.959,0.963)\n",
            "epoch=18: the mean square error is 0.225 (0.959,0.963)\n",
            "epoch=19: the mean square error is 0.225 (0.960,0.963)\n"
          ]
        },
        {
          "output_type": "execute_result",
          "data": {
            "text/plain": [
              "<matplotlib.legend.Legend at 0x7f4a2b792810>"
            ]
          },
          "metadata": {},
          "execution_count": 38
        },
        {
          "output_type": "display_data",
          "data": {
            "text/plain": [
              "<Figure size 432x288 with 2 Axes>"
            ],
            "image/png": "[encoded data removed]"
          },
          "metadata": {
            "needs_background": "light"
          }
        }
      ]
    },
    {
      "cell_type": "markdown",
      "source": [
        "## Ridge Regression Gradient Descent"
      ],
      "metadata": {
        "id": "8_1OwHy7Oj-m"
      }
    },
    {
      "cell_type": "code",
      "source": [
        " # solve ridge regression using gradient descent \n",
        "import numpy as np\n",
        "\n",
        "class Optimizer():\n",
        "  def __init__(self, lr, annealing_rate, batch_size, max_epochs,lamda):\n",
        "    self.lr = lr\n",
        "    self.annealing_rate = annealing_rate\n",
        "    self.batch_size = batch_size\n",
        "    self.max_epochs = max_epochs\n",
        "    self.lamda = lamda\n",
        "\n",
        "def Ridge_gd2(X, y, X2, y2, op):\n",
        "  n = X.shape[0]   # number of samples\n",
        "  w = np.zeros(X.shape[1])  # initialization\n",
        "\n",
        "  lr = op.lr\n",
        "  lambdaa=op.lamda\n",
        "  errorsA = np.zeros(op.max_epochs)\n",
        "  errorsB = np.zeros(op.max_epochs)\n",
        "  errorsC = np.zeros(op.max_epochs)\n",
        "\n",
        "  for epoch in range(op.max_epochs):\n",
        "    indices = np.random.permutation(n)  #randomly shuffle data indices\n",
        "    for batch_start in range(0, n, op.batch_size):\n",
        "      X_batch = X[indices[batch_start:batch_start + op.batch_size]]\n",
        "      y_batch = y[indices[batch_start:batch_start + op.batch_size]]\n",
        "\n",
        "      # vectorization to compute gradients for a whole mini-batch (see the above formula)\n",
        "    \n",
        "      w_grad = X_batch.T @  X_batch @ w -  X_batch.T  @  y_batch - w*lambdaa\n",
        "      w -= lr * w_grad / X_batch.shape[0] \n",
        "\n",
        "    # for learning curve C\n",
        "    diff = X @ w - y  # prediction difference\n",
        "    errorsC[epoch] = np.sum(diff*diff)/n   \n",
        "\n",
        "    # for learning curve A\n",
        "    predict = np.sign(X @ w)\n",
        "    errorsA[epoch] = np.count_nonzero(np.equal(predict,y))/y.size \n",
        "\n",
        "    # for learning curve B\n",
        "    predict2 = np.sign(X2 @ w)\n",
        "    errorsB[epoch] = np.count_nonzero(np.equal(predict2,y2))/y2.size\n",
        "\n",
        "    lr *= op.annealing_rate\n",
        "    print(f'epoch={epoch}: the mean square error is {errorsC[epoch]:.3f} ({errorsA[epoch]:.3f},{errorsB[epoch]:.3f})')\n",
        "\n",
        "  return w, errorsA, errorsB, errorsC"
      ],
      "metadata": {
        "id": "7jhFL_KuOqqt"
      },
      "execution_count": 40,
      "outputs": []
    },
    {
      "cell_type": "code",
      "source": [
        "import matplotlib.pyplot as plt\n",
        "\n",
        "op = Optimizer(lr=0.001, annealing_rate=0.99, batch_size=50, max_epochs=20,lamda=10)\n",
        "\n",
        "w, A, B, C = Ridge_gd2(X_train, y_train, X_test, y_test, op)\n",
        "\n",
        "fig, ax = plt.subplots(2)\n",
        "fig.suptitle('monitoring three learning curves (A, B, C)')\n",
        "ax[0].plot(C, 'b', 0.196*np.ones(C.shape[0]), 'c--')\n",
        "ax[0].legend(['curve C', 'closed-form solution'])\n",
        "\n",
        "ax[1].plot(A, 'b', B, 'r')\n",
        "ax[1].legend(['curve A', 'curve B'])"
      ],
      "metadata": {
        "colab": {
          "base_uri": "https://localhost:8080/",
          "height": 659
        },
        "id": "fsqCDx0UOyVA",
        "outputId": "3d6cb500-c75c-4323-b41c-8dfe42bf4aa9"
      },
      "execution_count": 42,
      "outputs": [
        {
          "output_type": "stream",
          "name": "stdout",
          "text": [
            "epoch=0: the mean square error is 0.392 (0.911,0.921)\n",
            "epoch=1: the mean square error is 0.302 (0.930,0.944)\n",
            "epoch=2: the mean square error is 0.273 (0.940,0.953)\n",
            "epoch=3: the mean square error is 0.257 (0.946,0.959)\n",
            "epoch=4: the mean square error is 0.248 (0.950,0.961)\n",
            "epoch=5: the mean square error is 0.243 (0.953,0.962)\n",
            "epoch=6: the mean square error is 0.239 (0.955,0.964)\n",
            "epoch=7: the mean square error is 0.236 (0.956,0.964)\n",
            "epoch=8: the mean square error is 0.233 (0.957,0.963)\n",
            "epoch=9: the mean square error is 0.232 (0.958,0.963)\n",
            "epoch=10: the mean square error is 0.231 (0.958,0.963)\n",
            "epoch=11: the mean square error is 0.229 (0.960,0.963)\n",
            "epoch=12: the mean square error is 0.228 (0.959,0.964)\n",
            "epoch=13: the mean square error is 0.227 (0.960,0.963)\n",
            "epoch=14: the mean square error is 0.227 (0.960,0.963)\n",
            "epoch=15: the mean square error is 0.226 (0.960,0.962)\n",
            "epoch=16: the mean square error is 0.226 (0.961,0.963)\n",
            "epoch=17: the mean square error is 0.225 (0.961,0.962)\n",
            "epoch=18: the mean square error is 0.225 (0.962,0.962)\n",
            "epoch=19: the mean square error is 0.224 (0.961,0.963)\n"
          ]
        },
        {
          "output_type": "execute_result",
          "data": {
            "text/plain": [
              "<matplotlib.legend.Legend at 0x7f4a2b70f850>"
            ]
          },
          "metadata": {},
          "execution_count": 42
        },
        {
          "output_type": "display_data",
          "data": {
            "text/plain": [
              "<Figure size 432x288 with 2 Axes>"
            ],
            "image/png": "[encoded data removed]"
          },
          "metadata": {
            "needs_background": "light"
          }
        }
      ]
    },
    {
      "cell_type": "markdown",
      "source": [
        "# Problem 2.2"
      ],
      "metadata": {
        "id": "4hs-TZUFO5qh"
      }
    },
    {
      "cell_type": "markdown",
      "source": [
        "## Lasso regression example 2.1"
      ],
      "metadata": {
        "id": "Kwn4OiVsQEBB"
      }
    },
    {
      "cell_type": "code",
      "source": [
        "from sklearn.model_selection import train_test_split\n",
        "\n",
        "X_train, X_test, y_train, y_test = train_test_split(data_wb,target, test_size=0.3, random_state=10)"
      ],
      "metadata": {
        "id": "Dv2Fi_dcQLEi"
      },
      "execution_count": 43,
      "outputs": []
    },
    {
      "cell_type": "code",
      "source": [
        "from sklearn.linear_model import Lasso\n",
        "from sklearn.metrics import mean_squared_error\n",
        "reg = Lasso(alpha=1)\n",
        "reg.fit(X_train, y_train)\n",
        "pred_train = reg.predict(X_train)\n",
        "mse_train = mean_squared_error(y_train, pred_train)\n",
        "print('MSE training set', round(mse_train, 2))\n",
        "pred = reg.predict(X_test)\n",
        "mse_test =mean_squared_error(y_test, pred)\n",
        "print('MSE test set', round(mse_test, 2))"
      ],
      "metadata": {
        "colab": {
          "base_uri": "https://localhost:8080/"
        },
        "id": "-GZR7um4QlEf",
        "outputId": "9568c83c-2356-44bb-e61a-01a62da8144d"
      },
      "execution_count": 44,
      "outputs": [
        {
          "output_type": "stream",
          "name": "stdout",
          "text": [
            "MSE training set 26.18\n",
            "MSE test set 34.85\n"
          ]
        }
      ]
    },
    {
      "cell_type": "markdown",
      "source": [
        "### Lasso regression with best aplha"
      ],
      "metadata": {
        "id": "xHo_n7geQ511"
      }
    },
    {
      "cell_type": "code",
      "source": [
        "from sklearn.linear_model import LassoCV\n",
        "# Lasso with 5 fold cross-validation\n",
        "model = LassoCV(cv=5, random_state=0, max_iter=10000)\n",
        "# Fit model\n",
        "model.fit(X_train, y_train)\n",
        "LassoCV(cv=5, max_iter=10000, random_state=0)\n",
        "# Set best alpha\n",
        "lasso_best = Lasso(alpha=model.alpha_)\n",
        "lasso_best.fit(X_train, y_train)\n",
        "print('R squared training set', round(lasso_best.score(X_train, y_train)*100, 2))\n",
        "print('R squared test set', round(lasso_best.score(X_test, y_test)*100, 2))\n",
        "print(\"MSE of Training Data\",mean_squared_error(y_train, lasso_best.predict(X_train)))\n",
        "print(\"MSE of Test Data\",mean_squared_error(y_test, lasso_best.predict(X_test)))"
      ],
      "metadata": {
        "colab": {
          "base_uri": "https://localhost:8080/"
        },
        "id": "9uHLEQHQQpg4",
        "outputId": "a80171e9-56c7-4099-cd39-76f238ebcfb3"
      },
      "execution_count": 45,
      "outputs": [
        {
          "output_type": "stream",
          "name": "stdout",
          "text": [
            "R squared training set 74.95\n",
            "R squared test set 70.01\n",
            "MSE of Training Data 19.461847343294057\n",
            "MSE of Test Data 29.284532607027753\n"
          ]
        }
      ]
    },
    {
      "cell_type": "markdown",
      "source": [
        "# Lasso regression example 2.2"
      ],
      "metadata": {
        "id": "Q4q0IxUrRBcg"
      }
    },
    {
      "cell_type": "code",
      "source": [
        "from mnist import MNIST\n",
        "import numpy as np\n",
        "\n",
        "mnist_loader = MNIST('/content/drive/My Drive/Colab Notebooks/MNIST')\n",
        "train_data, train_label = mnist_loader.load_training()\n",
        "test_data, test_label = mnist_loader.load_testing()\n",
        "train_data = np.array(train_data, dtype='float')/255 # norm to [0,1]\n",
        "train_label = np.array(train_label, dtype='short')\n",
        "test_data = np.array(test_data, dtype='float')/255 # norm to [0,1]\n",
        "test_label = np.array(test_label, dtype='short')\n",
        "\n",
        "#add small random noise to avoid matrix singularity\n",
        "train_data += np.random.normal(0,0.0001,train_data.shape) \n",
        "\n",
        "print(train_data.shape, train_label.shape, test_data.shape, test_label.shape)\n",
        "\n",
        "# prepare digits '3' and '8' for linear regression\n",
        "\n",
        "digit_train_index = np.logical_or(train_label == 3, train_label == 8)\n",
        "X_train = train_data[digit_train_index]\n",
        "y_train = train_label[digit_train_index]\n",
        "digit_test_index = np.logical_or(test_label == 3, test_label == 8)\n",
        "X_test = test_data[digit_test_index]\n",
        "y_test = test_label[digit_test_index]\n",
        "\n",
        "# add a constant column of '1' to accomodate the bias (see the margin note on page 107)\n",
        "X_train = np.hstack((X_train, np.ones((X_train.shape[0], 1), dtype=X_train.dtype)))\n",
        "X_test = np.hstack((X_test, np.ones((X_test.shape[0], 1), dtype=X_test.dtype)))\n",
        "\n",
        "# convert labels: '3' => -1, '8' => +1\n",
        "CUTOFF = 5 # any number between '3' and '8'\n",
        "y_train = np.sign(y_train-CUTOFF)\n",
        "y_test = np.sign(y_test-CUTOFF)\n",
        "\n",
        "print(X_train.shape)\n",
        "print(y_train)\n",
        "\n",
        "print(X_test.shape)\n",
        "print(y_test)"
      ],
      "metadata": {
        "colab": {
          "base_uri": "https://localhost:8080/"
        },
        "id": "wxky69TgRHLr",
        "outputId": "85e504ab-d9fc-4949-a337-2026af52e95d"
      },
      "execution_count": 46,
      "outputs": [
        {
          "output_type": "stream",
          "name": "stdout",
          "text": [
            "(60000, 784) (60000,) (10000, 784) (10000,)\n",
            "(11982, 785)\n",
            "[-1 -1 -1 ...  1 -1  1]\n",
            "(1984, 785)\n",
            "[-1 -1 -1 ... -1  1 -1]\n"
          ]
        }
      ]
    },
    {
      "cell_type": "code",
      "source": [
        "from sklearn.linear_model import Lasso\n",
        "from sklearn.metrics import mean_squared_error\n",
        "reg = Lasso(alpha=1)\n",
        "reg.fit(X_train, y_train)\n",
        "pred_train = reg.predict(X_train)\n",
        "mse_train = mean_squared_error(y_train, pred_train)\n",
        "print('MSE training set', round(mse_train, 2))\n",
        "pred = reg.predict(X_test)\n",
        "mse_test =mean_squared_error(y_test, pred)\n",
        "print('MSE test set', round(mse_test, 2))"
      ],
      "metadata": {
        "colab": {
          "base_uri": "https://localhost:8080/"
        },
        "id": "q1dPtyTORf64",
        "outputId": "9fda7945-4072-47ca-8111-7d6eb52b7af2"
      },
      "execution_count": 47,
      "outputs": [
        {
          "output_type": "stream",
          "name": "stdout",
          "text": [
            "MSE training set 1.0\n",
            "MSE test set 1.0\n"
          ]
        }
      ]
    },
    {
      "cell_type": "markdown",
      "source": [
        "with best aplha"
      ],
      "metadata": {
        "id": "s7YMn_dqRnYM"
      }
    },
    {
      "cell_type": "code",
      "source": [
        "from sklearn.linear_model import LassoCV\n",
        "# Lasso with 5 fold cross-validation\n",
        "model = LassoCV(cv=5, random_state=0, max_iter=10000)\n",
        "# Fit model\n",
        "model.fit(X_train, y_train)\n",
        "LassoCV(cv=5, max_iter=10000, random_state=0)\n",
        "# Set best alpha\n",
        "lasso_best = Lasso(alpha=model.alpha_)\n",
        "lasso_best.fit(X_train, y_train)\n",
        "print('R squared training set', round(lasso_best.score(X_train, y_train)*100, 2))\n",
        "print('R squared test set', round(lasso_best.score(X_test, y_test)*100, 2))\n",
        "print(\"MSE of Training Data\",mean_squared_error(y_train, lasso_best.predict(X_train)))\n",
        "print(\"MSE of Test Data\",mean_squared_error(y_test, lasso_best.predict(X_test)))"
      ],
      "metadata": {
        "colab": {
          "base_uri": "https://localhost:8080/"
        },
        "id": "v4YA9-fcRm82",
        "outputId": "2bdfe03a-15bf-4963-c9a2-f31793f06a1b"
      },
      "execution_count": 48,
      "outputs": [
        {
          "output_type": "stream",
          "name": "stdout",
          "text": [
            "R squared training set 79.06\n",
            "R squared test set 78.75\n",
            "MSE of Training Data 0.20926540252156423\n",
            "MSE of Test Data 0.2124736823993161\n"
          ]
        }
      ]
    }
  ]
}